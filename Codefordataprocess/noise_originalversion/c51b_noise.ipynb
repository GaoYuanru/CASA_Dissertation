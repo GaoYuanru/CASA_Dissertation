{
 "cells": [
  {
   "cell_type": "code",
   "execution_count": 1,
   "id": "72a82518-441f-43be-9bd8-a306792ecca2",
   "metadata": {},
   "outputs": [],
   "source": [
    "import networkx as nx \n",
    "import matplotlib.pyplot as plt \n",
    "import numpy as np \n",
    "import pandas as pd"
   ]
  },
  {
   "cell_type": "code",
   "execution_count": 2,
   "id": "db9537cc-7e40-454c-bc94-889c2cd05378",
   "metadata": {},
   "outputs": [
    {
     "name": "stdout",
     "output_type": "stream",
     "text": [
      "                  time  eui-e8e1e1000104c51b\n",
      "17    01/06/2023 09:00                 219.0\n",
      "18    01/06/2023 09:30                 220.0\n",
      "19    01/06/2023 10:00                 255.0\n",
      "20    01/06/2023 10:30                 255.0\n",
      "21    01/06/2023 11:00                 255.0\n",
      "...                ...                   ...\n",
      "1518  02/07/2023 18:00                 184.0\n",
      "1519  02/07/2023 18:30                 255.0\n",
      "1520  02/07/2023 19:00                 126.0\n",
      "1521  02/07/2023 19:30                 219.0\n",
      "1522  02/07/2023 20:00                 219.0\n",
      "\n",
      "[731 rows x 2 columns]\n"
     ]
    }
   ],
   "source": [
    "import pandas as pd\n",
    "\n",
    "# Read in the CSV file\n",
    "file = pd.read_csv(\"c51b.csv\")\n",
    "\n",
    "# Select the first column named \"time\"\n",
    "selected_column = file['time']\n",
    "\n",
    "# Convert the column to datetime type with the appropriate format\n",
    "selected_column = pd.to_datetime(selected_column, format=\"%d/%m/%Y %H:%M\")\n",
    "\n",
    "# Filter the data based on the time between 09:00 and 20:00\n",
    "filtered_data = file[\n",
    "    selected_column.dt.strftime(\"%H:%M\").between('09:00', '20:00')\n",
    "]\n",
    "\n",
    "# Print the filtered data\n",
    "print(filtered_data)"
   ]
  },
  {
   "cell_type": "code",
   "execution_count": 4,
   "id": "b0f321eb-dc95-406a-b822-2005848f6fb6",
   "metadata": {},
   "outputs": [
    {
     "name": "stdout",
     "output_type": "stream",
     "text": [
      "                  time  eui-e8e1e1000104c51b\n",
      "17    01/06/2023 09:00                 222.0\n",
      "18    01/06/2023 09:30                 223.0\n",
      "19    01/06/2023 10:00                 255.0\n",
      "20    01/06/2023 10:30                 255.0\n",
      "21    01/06/2023 11:00                 255.0\n",
      "...                ...                   ...\n",
      "1518  02/07/2023 18:00                 187.0\n",
      "1519  02/07/2023 18:30                 255.0\n",
      "1520  02/07/2023 19:00                 129.0\n",
      "1521  02/07/2023 19:30                 222.0\n",
      "1522  02/07/2023 20:00                 222.0\n",
      "\n",
      "[731 rows x 2 columns]\n",
      "                  time  eui-e8e1e1000104c51b\n",
      "19    01/06/2023 10:00                 255.0\n",
      "20    01/06/2023 10:30                 255.0\n",
      "21    01/06/2023 11:00                 255.0\n",
      "23    01/06/2023 12:00                 255.0\n",
      "24    01/06/2023 12:30                 255.0\n",
      "...                ...                   ...\n",
      "1509  02/07/2023 13:30                 255.0\n",
      "1512  02/07/2023 15:00                 255.0\n",
      "1515  02/07/2023 16:30                 255.0\n",
      "1517  02/07/2023 17:30                 255.0\n",
      "1519  02/07/2023 18:30                 255.0\n",
      "\n",
      "[320 rows x 2 columns]\n"
     ]
    }
   ],
   "source": [
    "import numpy as np\n",
    "\n",
    "# Create a copy of filtered_data_clean\n",
    "filtered_data_clean = filtered_data.copy()\n",
    "\n",
    "# Subtract 1 from the values in the second column, excluding the rows where the value is 255\n",
    "filtered_data_clean.loc[filtered_data_clean.iloc[:, 1] != 255, filtered_data_clean.columns[1]] += 3\n",
    "\n",
    "# Print the updated filtered_data_clean DataFrame\n",
    "print(filtered_data_clean)\n",
    "# Delete rows with null values in the second column\n",
    "filtered_data_clean = filtered_data.dropna(subset=[filtered_data.columns[1]])\n",
    "\n",
    "# Delete rows with values between 101 and 254 or less than 40 and greater than 0 in the second column\n",
    "filtered_data_clean = filtered_data_clean[~filtered_data_clean.iloc[:, 1].between(101, 254) &\n",
    "                                          ~filtered_data_clean.iloc[:, 1].between(0, 39)]\n",
    "\n",
    "# Print the updated filtered data\n",
    "print(filtered_data_clean)"
   ]
  },
  {
   "cell_type": "code",
   "execution_count": 5,
   "id": "4bdd3e2f-a992-4e50-a07f-ee125aee3f31",
   "metadata": {},
   "outputs": [
    {
     "name": "stdout",
     "output_type": "stream",
     "text": [
      "                  time  eui-e8e1e1000104c51b\n",
      "19    01/06/2023 10:00                  39.0\n",
      "20    01/06/2023 10:30                  39.0\n",
      "21    01/06/2023 11:00                  39.0\n",
      "23    01/06/2023 12:00                  39.0\n",
      "24    01/06/2023 12:30                  39.0\n",
      "...                ...                   ...\n",
      "1509  02/07/2023 13:30                  39.0\n",
      "1512  02/07/2023 15:00                  39.0\n",
      "1515  02/07/2023 16:30                  39.0\n",
      "1517  02/07/2023 17:30                  39.0\n",
      "1519  02/07/2023 18:30                  39.0\n",
      "\n",
      "[320 rows x 2 columns]\n"
     ]
    }
   ],
   "source": [
    "# Create a copy of filtered_data_clean\n",
    "filtered_data_modified = filtered_data_clean.copy()\n",
    "\n",
    "# Conditionally modify the values in the second column\n",
    "mask = (filtered_data_modified.iloc[:, 1] == 255)\n",
    "filtered_data_modified.loc[mask, filtered_data_modified.columns[1]] = 39\n",
    "\n",
    "# Print the modified filtered_data_modified DataFrame\n",
    "print(filtered_data_modified)"
   ]
  },
  {
   "cell_type": "code",
   "execution_count": 6,
   "id": "9de2dca4-321c-42a9-b66f-99bb7fbdc8e1",
   "metadata": {},
   "outputs": [],
   "source": [
    "# Export the modified filtered_data_modified DataFrame to a CSV file\n",
    "filtered_data_modified.to_csv(\"c51b_modified_data.csv\", index=False)"
   ]
  },
  {
   "cell_type": "code",
   "execution_count": 7,
   "id": "a01d725e-8374-45cc-9b23-af39d738693c",
   "metadata": {},
   "outputs": [
    {
     "name": "stdout",
     "output_type": "stream",
     "text": [
      "                   time  eui-e8e1e1000104c51b\n",
      "0   2023-06-01 10:00:00                  39.0\n",
      "1   2023-06-01 10:30:00                  39.0\n",
      "2   2023-06-01 11:00:00                  39.0\n",
      "3   2023-06-01 12:00:00                  39.0\n",
      "4   2023-06-01 12:30:00                  39.0\n",
      "..                  ...                   ...\n",
      "315 2023-07-02 13:30:00                  39.0\n",
      "316 2023-07-02 15:00:00                  39.0\n",
      "317 2023-07-02 16:30:00                  39.0\n",
      "318 2023-07-02 17:30:00                  39.0\n",
      "319 2023-07-02 18:30:00                  39.0\n",
      "\n",
      "[316 rows x 2 columns]\n"
     ]
    }
   ],
   "source": [
    "import pandas as pd\n",
    "\n",
    "# Read the CSV file\n",
    "data = pd.read_csv('c51b_modified_data.csv')\n",
    "\n",
    "# Convert the 'time' column to datetime type\n",
    "data['time'] = pd.to_datetime(data['time'], dayfirst=True, errors='coerce')\n",
    "\n",
    "# Filter out the rows with date '06/03/2023' and time not between 11:00 and 18:00\n",
    "filtered_data_sat = data.loc[\n",
    "    ~(data['time'].dt.date == pd.to_datetime('06/03/2023', format='%m/%d/%Y').date())\n",
    "    | data['time'].dt.strftime('%H:%M').between('11:00', '18:00')\n",
    "]\n",
    "\n",
    "# Print the updated filtered data\n",
    "print(filtered_data_sat)\n"
   ]
  },
  {
   "cell_type": "code",
   "execution_count": 8,
   "id": "16e52815-4046-47cc-aedf-86fe4f04bf6b",
   "metadata": {},
   "outputs": [],
   "source": [
    "# Save the filtered data to a new CSV file\n",
    "filtered_data_sat.to_csv('filtered_c51b_modified_data.csv', index=False)"
   ]
  },
  {
   "cell_type": "code",
   "execution_count": 9,
   "id": "c657a580-789e-4e8f-b6b5-140b87f0d2d1",
   "metadata": {},
   "outputs": [
    {
     "name": "stdout",
     "output_type": "stream",
     "text": [
      "Maximum value of the noise: 100.0\n",
      "Minimum value of the noise: 39.0\n"
     ]
    }
   ],
   "source": [
    "import pandas as pd\n",
    "\n",
    "# Read the filtered data from the CSV file\n",
    "filtered_data = pd.read_csv('filtered_c51b_modified_data.csv')\n",
    "\n",
    "# Find the maximum and minimum values of the second column\n",
    "max_value = filtered_data.iloc[:, 1].max()\n",
    "min_value = filtered_data.iloc[:, 1].min()\n",
    "\n",
    "# Print the maximum and minimum values\n",
    "print(\"Maximum value of the noise:\", max_value)\n",
    "print(\"Minimum value of the noise:\", min_value)"
   ]
  },
  {
   "cell_type": "code",
   "execution_count": 10,
   "id": "968dc91c-7b5e-4216-988b-eeb1eb1635e9",
   "metadata": {},
   "outputs": [
    {
     "name": "stdout",
     "output_type": "stream",
     "text": [
      "Average value of the noise: 52.43386075949369\n"
     ]
    }
   ],
   "source": [
    "# Calculate the average of the second column\n",
    "average_value = filtered_data.iloc[:, 1].mean()\n",
    "\n",
    "# Print the average value\n",
    "print(\"Average value of the noise:\", average_value)"
   ]
  },
  {
   "cell_type": "code",
   "execution_count": 11,
   "id": "8e7c7712-deeb-45a9-ace3-ad3592237bb6",
   "metadata": {},
   "outputs": [
    {
     "data": {
      "image/png": "[encoded data removed]",
      "text/plain": [
       "<Figure size 432x288 with 2 Axes>"
      ]
     },
     "metadata": {
      "needs_background": "light"
     },
     "output_type": "display_data"
    }
   ],
   "source": [
    "import matplotlib.pyplot as plt\n",
    "\n",
    "# Convert the second column to numeric type if needed\n",
    "filtered_data['time'] = pd.to_datetime(filtered_data['time'], dayfirst=True, errors='coerce')\n",
    "filtered_data['eui-e8e1e1000104c51b'] = pd.to_numeric(filtered_data['eui-e8e1e1000104c51b'], errors='coerce')\n",
    "\n",
    "# Create a Figure with two subplots\n",
    "fig, (ax_data, ax_time) = plt.subplots(2, 1, sharex=True, gridspec_kw={'height_ratios': [3, 1]})\n",
    "\n",
    "# Plot the data in the top subplot\n",
    "ax_data.plot(filtered_data['time'], filtered_data['eui-e8e1e1000104c51b'])\n",
    "ax_data.set_ylabel('c51b')\n",
    "ax_data.set_title('Filtered Data')\n",
    "\n",
    "# Set the limits of the x-axis in the data subplot\n",
    "ax_data.set_xlim(filtered_data['time'].min(), filtered_data['time'].max())\n",
    "\n",
    "# Plot the time axis in the bottom subplot\n",
    "ax_time.plot(filtered_data['time'], [0] * len(filtered_data), '|', color='k')\n",
    "ax_time.yaxis.tick_right()\n",
    "ax_time.set_yticks([])\n",
    "ax_time.set_xlabel('Time')\n",
    "\n",
    "# Rotate x-axis labels for better visibility (optional)\n",
    "plt.xticks(rotation=45)\n",
    "\n",
    "# Adjust spacing between subplots\n",
    "plt.subplots_adjust(hspace=0.05)\n",
    "\n",
    "# Display the plot\n",
    "plt.show()"
   ]
  },
  {
   "cell_type": "code",
   "execution_count": null,
   "id": "9549aa40-b44c-40f5-a3f8-c7cbeed3fa0a",
   "metadata": {},
   "outputs": [],
   "source": []
  }
 ],
 "metadata": {
  "kernelspec": {
   "display_name": "Python 3 (ipykernel)",
   "language": "python",
   "name": "python3"
  },
  "language_info": {
   "codemirror_mode": {
    "name": "ipython",
    "version": 3
   },
   "file_extension": ".py",
   "mimetype": "text/x-python",
   "name": "python",
   "nbconvert_exporter": "python",
   "pygments_lexer": "ipython3",
   "version": "3.10.5"
  }
 },
 "nbformat": 4,
 "nbformat_minor": 5
}
