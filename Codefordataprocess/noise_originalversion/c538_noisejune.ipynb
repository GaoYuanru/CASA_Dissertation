{
 "cells": [
  {
   "cell_type": "code",
   "execution_count": 1,
   "id": "cb2d3b30-f376-40a5-8bac-010b7f02bce4",
   "metadata": {},
   "outputs": [],
   "source": [
    "import networkx as nx \n",
    "import matplotlib.pyplot as plt \n",
    "import numpy as np \n",
    "import pandas as pd"
   ]
  },
  {
   "cell_type": "code",
   "execution_count": 2,
   "id": "75ce0828-faca-43b6-968d-91c507fab314",
   "metadata": {},
   "outputs": [
    {
     "name": "stdout",
     "output_type": "stream",
     "text": [
      "                  time  eui-e8e1e1000104c538\n",
      "17    01/06/2023 09:00                  55.2\n",
      "18    01/06/2023 09:30                  63.7\n",
      "19    01/06/2023 10:00                  64.5\n",
      "20    01/06/2023 10:30                  53.8\n",
      "21    01/06/2023 11:00                  54.0\n",
      "...                ...                   ...\n",
      "1518  02/07/2023 18:00                  43.8\n",
      "1519  02/07/2023 18:30                  44.5\n",
      "1520  02/07/2023 19:00                  43.8\n",
      "1521  02/07/2023 19:30                  44.3\n",
      "1522  02/07/2023 20:00                  42.8\n",
      "\n",
      "[731 rows x 2 columns]\n"
     ]
    }
   ],
   "source": [
    "import pandas as pd\n",
    "\n",
    "# Read in the CSV file\n",
    "file = pd.read_csv(\"c538.csv\")\n",
    "\n",
    "# Select the first column named \"time\"\n",
    "selected_column = file['time']\n",
    "\n",
    "# Convert the column to datetime type with the appropriate format\n",
    "selected_column = pd.to_datetime(selected_column, format=\"%d/%m/%Y %H:%M\")\n",
    "\n",
    "# Filter the data based on the time between 09:00 and 20:00\n",
    "filtered_data = file[\n",
    "    selected_column.dt.strftime(\"%H:%M\").between('09:00', '20:00')\n",
    "]\n",
    "\n",
    "# Print the filtered data\n",
    "print(filtered_data)\n"
   ]
  },
  {
   "cell_type": "code",
   "execution_count": null,
   "id": "a6746fae-1daf-46ba-988a-28b30e87259c",
   "metadata": {},
   "outputs": [],
   "source": []
  },
  {
   "cell_type": "code",
   "execution_count": 3,
   "id": "0f53e2a2-df7e-47f6-89b7-2bc84e1571e4",
   "metadata": {},
   "outputs": [
    {
     "name": "stdout",
     "output_type": "stream",
     "text": [
      "                  time  eui-e8e1e1000104c538\n",
      "17    01/06/2023 09:00                  59.2\n",
      "18    01/06/2023 09:30                  67.7\n",
      "19    01/06/2023 10:00                  68.5\n",
      "20    01/06/2023 10:30                  57.8\n",
      "21    01/06/2023 11:00                  58.0\n",
      "...                ...                   ...\n",
      "1518  02/07/2023 18:00                  47.8\n",
      "1519  02/07/2023 18:30                  48.5\n",
      "1520  02/07/2023 19:00                  47.8\n",
      "1521  02/07/2023 19:30                  48.3\n",
      "1522  02/07/2023 20:00                  46.8\n",
      "\n",
      "[731 rows x 2 columns]\n",
      "                  time  eui-e8e1e1000104c538\n",
      "17    01/06/2023 09:00                  55.2\n",
      "18    01/06/2023 09:30                  63.7\n",
      "19    01/06/2023 10:00                  64.5\n",
      "20    01/06/2023 10:30                  53.8\n",
      "21    01/06/2023 11:00                  54.0\n",
      "...                ...                   ...\n",
      "1518  02/07/2023 18:00                  43.8\n",
      "1519  02/07/2023 18:30                  44.5\n",
      "1520  02/07/2023 19:00                  43.8\n",
      "1521  02/07/2023 19:30                  44.3\n",
      "1522  02/07/2023 20:00                  42.8\n",
      "\n",
      "[725 rows x 2 columns]\n"
     ]
    }
   ],
   "source": [
    "import numpy as np\n",
    "\n",
    "# Create a copy of filtered_data_clean\n",
    "filtered_data_clean = filtered_data.copy()\n",
    "\n",
    "# Subtract 1 from the values in the second column, excluding the rows where the value is 255\n",
    "filtered_data_clean.loc[filtered_data_clean.iloc[:, 1] != 255, filtered_data_clean.columns[1]] += 4\n",
    "\n",
    "# Print the updated filtered_data_clean DataFrame\n",
    "print(filtered_data_clean)\n",
    "# Delete rows with null values in the second column\n",
    "filtered_data_clean = filtered_data.dropna(subset=[filtered_data.columns[1]])\n",
    "\n",
    "# Delete rows with values between 101 and 254 or less than 40 and greater than 0 in the second column\n",
    "filtered_data_clean = filtered_data_clean[~filtered_data_clean.iloc[:, 1].between(101, 254) &\n",
    "                                          ~filtered_data_clean.iloc[:, 1].between(0, 39)]\n",
    "\n",
    "# Print the updated filtered data\n",
    "print(filtered_data_clean)\n"
   ]
  },
  {
   "cell_type": "code",
   "execution_count": 4,
   "id": "f6947e07-e460-40df-ac2e-b349727f8555",
   "metadata": {},
   "outputs": [
    {
     "name": "stdout",
     "output_type": "stream",
     "text": [
      "                  time  eui-e8e1e1000104c538\n",
      "17    01/06/2023 09:00                  55.2\n",
      "18    01/06/2023 09:30                  63.7\n",
      "19    01/06/2023 10:00                  64.5\n",
      "20    01/06/2023 10:30                  53.8\n",
      "21    01/06/2023 11:00                  54.0\n",
      "...                ...                   ...\n",
      "1518  02/07/2023 18:00                  43.8\n",
      "1519  02/07/2023 18:30                  44.5\n",
      "1520  02/07/2023 19:00                  43.8\n",
      "1521  02/07/2023 19:30                  44.3\n",
      "1522  02/07/2023 20:00                  42.8\n",
      "\n",
      "[725 rows x 2 columns]\n"
     ]
    }
   ],
   "source": [
    "# Create a copy of filtered_data_clean\n",
    "filtered_data_modified = filtered_data_clean.copy()\n",
    "\n",
    "# Conditionally modify the values in the second column\n",
    "mask = (filtered_data_modified.iloc[:, 1] == 255)\n",
    "filtered_data_modified.loc[mask, filtered_data_modified.columns[1]] = 39\n",
    "\n",
    "# Print the modified filtered_data_modified DataFrame\n",
    "print(filtered_data_modified)\n"
   ]
  },
  {
   "cell_type": "code",
   "execution_count": 5,
   "id": "ef077c92-9467-421d-a82e-ad193076b751",
   "metadata": {},
   "outputs": [],
   "source": [
    "# Export the modified filtered_data_modified DataFrame to a CSV file\n",
    "filtered_data_modified.to_csv(\"c538_modified_data.csv\", index=False)"
   ]
  },
  {
   "cell_type": "code",
   "execution_count": 6,
   "id": "d3cd5105-cb4e-4cba-92f7-64df2306e3d0",
   "metadata": {},
   "outputs": [
    {
     "name": "stdout",
     "output_type": "stream",
     "text": [
      "                   time  eui-e8e1e1000104c538\n",
      "0   2023-06-01 09:00:00                  55.2\n",
      "1   2023-06-01 09:30:00                  63.7\n",
      "2   2023-06-01 10:00:00                  64.5\n",
      "3   2023-06-01 10:30:00                  53.8\n",
      "4   2023-06-01 11:00:00                  54.0\n",
      "..                  ...                   ...\n",
      "720 2023-07-02 18:00:00                  43.8\n",
      "721 2023-07-02 18:30:00                  44.5\n",
      "722 2023-07-02 19:00:00                  43.8\n",
      "723 2023-07-02 19:30:00                  44.3\n",
      "724 2023-07-02 20:00:00                  42.8\n",
      "\n",
      "[717 rows x 2 columns]\n"
     ]
    }
   ],
   "source": [
    "import pandas as pd\n",
    "\n",
    "# Read the CSV file\n",
    "data = pd.read_csv('c538_modified_data.csv')\n",
    "\n",
    "# Convert the 'time' column to datetime type\n",
    "data['time'] = pd.to_datetime(data['time'], dayfirst=True, errors='coerce')\n",
    "\n",
    "# Filter out the rows with date '06/03/2023' and time not between 11:00 and 18:00\n",
    "filtered_data_sat = data.loc[\n",
    "    ~(data['time'].dt.date == pd.to_datetime('06/03/2023', format='%m/%d/%Y').date())\n",
    "    | data['time'].dt.strftime('%H:%M').between('11:00', '18:00')\n",
    "]\n",
    "\n",
    "# Print the updated filtered data\n",
    "print(filtered_data_sat)\n"
   ]
  },
  {
   "cell_type": "code",
   "execution_count": 7,
   "id": "750e2b10-f790-429b-b109-b1d517947ff5",
   "metadata": {},
   "outputs": [],
   "source": [
    "# Save the filtered data to a new CSV file\n",
    "filtered_data_sat.to_csv('filtered_c538_modified_data.csv', index=False)"
   ]
  },
  {
   "cell_type": "code",
   "execution_count": 8,
   "id": "42a12ab6-2e91-4f28-88a6-b1f38a3b5a48",
   "metadata": {},
   "outputs": [
    {
     "name": "stdout",
     "output_type": "stream",
     "text": [
      "Maximum value of the noise: 65.4\n",
      "Minimum value of the noise: 39.6\n"
     ]
    }
   ],
   "source": [
    "import pandas as pd\n",
    "\n",
    "# Read the filtered data from the CSV file\n",
    "filtered_data = pd.read_csv('filtered_c538_modified_data.csv')\n",
    "\n",
    "# Find the maximum and minimum values of the second column\n",
    "max_value = filtered_data.iloc[:, 1].max()\n",
    "min_value = filtered_data.iloc[:, 1].min()\n",
    "\n",
    "# Print the maximum and minimum values\n",
    "print(\"Maximum value of the noise:\", max_value)\n",
    "print(\"Minimum value of the noise:\", min_value)\n"
   ]
  },
  {
   "cell_type": "code",
   "execution_count": 9,
   "id": "24654e25-2449-4053-9d5e-07a090a6bc5f",
   "metadata": {},
   "outputs": [
    {
     "name": "stdout",
     "output_type": "stream",
     "text": [
      "Average value of the noise: 50.31938633193868\n"
     ]
    }
   ],
   "source": [
    "# Calculate the average of the second column\n",
    "average_value = filtered_data.iloc[:, 1].mean()\n",
    "\n",
    "# Print the average value\n",
    "print(\"Average value of the noise:\", average_value)"
   ]
  },
  {
   "cell_type": "code",
   "execution_count": 10,
   "id": "e490fee3-37bd-4007-9de1-e5c17e83315b",
   "metadata": {},
   "outputs": [
    {
     "data": {
      "image/png": "[encoded data removed]",
      "text/plain": [
       "<Figure size 432x288 with 2 Axes>"
      ]
     },
     "metadata": {
      "needs_background": "light"
     },
     "output_type": "display_data"
    }
   ],
   "source": [
    "import matplotlib.pyplot as plt\n",
    "\n",
    "# Convert the second column to numeric type if needed\n",
    "filtered_data['time'] = pd.to_datetime(filtered_data['time'], dayfirst=True, errors='coerce')\n",
    "filtered_data['eui-e8e1e1000104c538'] = pd.to_numeric(filtered_data['eui-e8e1e1000104c538'], errors='coerce')\n",
    "\n",
    "# Create a Figure with two subplots\n",
    "fig, (ax_data, ax_time) = plt.subplots(2, 1, sharex=True, gridspec_kw={'height_ratios': [3, 1]})\n",
    "\n",
    "# Plot the data in the top subplot\n",
    "ax_data.plot(filtered_data['time'], filtered_data['eui-e8e1e1000104c538'])\n",
    "ax_data.set_ylabel('c538')\n",
    "ax_data.set_title('Filtered Data')\n",
    "\n",
    "# Set the limits of the x-axis in the data subplot\n",
    "ax_data.set_xlim(filtered_data['time'].min(), filtered_data['time'].max())\n",
    "\n",
    "# Plot the time axis in the bottom subplot\n",
    "ax_time.plot(filtered_data['time'], [0] * len(filtered_data), '|', color='k')\n",
    "ax_time.yaxis.tick_right()\n",
    "ax_time.set_yticks([])\n",
    "ax_time.set_xlabel('Time')\n",
    "\n",
    "# Rotate x-axis labels for better visibility (optional)\n",
    "plt.xticks(rotation=45)\n",
    "\n",
    "# Adjust spacing between subplots\n",
    "plt.subplots_adjust(hspace=0.05)\n",
    "\n",
    "# Display the plot\n",
    "plt.show()\n"
   ]
  },
  {
   "cell_type": "code",
   "execution_count": null,
   "id": "4b75756a-0e36-418d-8eb2-8b6175c1e65c",
   "metadata": {},
   "outputs": [],
   "source": []
  }
 ],
 "metadata": {
  "kernelspec": {
   "display_name": "Python 3 (ipykernel)",
   "language": "python",
   "name": "python3"
  },
  "language_info": {
   "codemirror_mode": {
    "name": "ipython",
    "version": 3
   },
   "file_extension": ".py",
   "mimetype": "text/x-python",
   "name": "python",
   "nbconvert_exporter": "python",
   "pygments_lexer": "ipython3",
   "version": "3.10.5"
  }
 },
 "nbformat": 4,
 "nbformat_minor": 5
}
