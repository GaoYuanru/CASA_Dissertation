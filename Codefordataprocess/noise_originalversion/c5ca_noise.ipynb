{
 "cells": [
  {
   "cell_type": "code",
   "execution_count": 1,
   "id": "c2167331-7aec-41c0-b1b8-6715c6d5366e",
   "metadata": {},
   "outputs": [],
   "source": [
    "import networkx as nx \n",
    "import matplotlib.pyplot as plt \n",
    "import numpy as np \n",
    "import pandas as pd"
   ]
  },
  {
   "cell_type": "code",
   "execution_count": 2,
   "id": "696b2630-1764-4d3c-a3c0-1f9bcb45b4be",
   "metadata": {},
   "outputs": [
    {
     "name": "stdout",
     "output_type": "stream",
     "text": [
      "                  time  eui-e8e1e1000104c5ca\n",
      "17    01/06/2023 09:00                   255\n",
      "18    01/06/2023 09:30                   255\n",
      "19    01/06/2023 10:00                   255\n",
      "20    01/06/2023 10:30                   255\n",
      "21    01/06/2023 11:00                   255\n",
      "...                ...                   ...\n",
      "1518  02/07/2023 18:00                   255\n",
      "1519  02/07/2023 18:30                   255\n",
      "1520  02/07/2023 19:00                   255\n",
      "1521  02/07/2023 19:30                   255\n",
      "1522  02/07/2023 20:00                   255\n",
      "\n",
      "[731 rows x 2 columns]\n"
     ]
    }
   ],
   "source": [
    "import pandas as pd\n",
    "\n",
    "# Read in the CSV file\n",
    "file = pd.read_csv(\"c5ca.csv\")\n",
    "\n",
    "# Select the first column named \"time\"\n",
    "selected_column = file['time']\n",
    "\n",
    "# Convert the column to datetime type with the appropriate format\n",
    "selected_column = pd.to_datetime(selected_column, format=\"%d/%m/%Y %H:%M\")\n",
    "\n",
    "# Filter the data based on the time between 09:00 and 20:00\n",
    "filtered_data = file[\n",
    "    selected_column.dt.strftime(\"%H:%M\").between('09:00', '20:00')\n",
    "]\n",
    "\n",
    "# Print the filtered data\n",
    "print(filtered_data)"
   ]
  },
  {
   "cell_type": "code",
   "execution_count": 3,
   "id": "7b26f858-7e0c-46e0-8b57-87c056866152",
   "metadata": {},
   "outputs": [
    {
     "name": "stdout",
     "output_type": "stream",
     "text": [
      "                  time  eui-e8e1e1000104c5ca\n",
      "17    01/06/2023 09:00                   255\n",
      "18    01/06/2023 09:30                   255\n",
      "19    01/06/2023 10:00                   255\n",
      "20    01/06/2023 10:30                   255\n",
      "21    01/06/2023 11:00                   255\n",
      "...                ...                   ...\n",
      "1518  02/07/2023 18:00                   255\n",
      "1519  02/07/2023 18:30                   255\n",
      "1520  02/07/2023 19:00                   255\n",
      "1521  02/07/2023 19:30                   255\n",
      "1522  02/07/2023 20:00                   255\n",
      "\n",
      "[731 rows x 2 columns]\n",
      "                  time  eui-e8e1e1000104c5ca\n",
      "17    01/06/2023 09:00                   255\n",
      "18    01/06/2023 09:30                   255\n",
      "19    01/06/2023 10:00                   255\n",
      "20    01/06/2023 10:30                   255\n",
      "21    01/06/2023 11:00                   255\n",
      "...                ...                   ...\n",
      "1518  02/07/2023 18:00                   255\n",
      "1519  02/07/2023 18:30                   255\n",
      "1520  02/07/2023 19:00                   255\n",
      "1521  02/07/2023 19:30                   255\n",
      "1522  02/07/2023 20:00                   255\n",
      "\n",
      "[584 rows x 2 columns]\n"
     ]
    }
   ],
   "source": [
    "import numpy as np\n",
    "\n",
    "# Create a copy of filtered_data_clean\n",
    "filtered_data_clean = filtered_data.copy()\n",
    "\n",
    "# Subtract 1 from the values in the second column, excluding the rows where the value is 255\n",
    "filtered_data_clean.loc[filtered_data_clean.iloc[:, 1] != 255, filtered_data_clean.columns[1]] -= 1\n",
    "\n",
    "# Print the updated filtered_data_clean DataFrame\n",
    "print(filtered_data_clean)\n",
    "# Delete rows with null values in the second column\n",
    "filtered_data_clean = filtered_data.dropna(subset=[filtered_data.columns[1]])\n",
    "\n",
    "# Delete rows with values between 101 and 254 or less than 40 and greater than 0 in the second column\n",
    "filtered_data_clean = filtered_data_clean[~filtered_data_clean.iloc[:, 1].between(101, 254) &\n",
    "                                          ~filtered_data_clean.iloc[:, 1].between(0, 39)]\n",
    "\n",
    "# Print the updated filtered data\n",
    "print(filtered_data_clean)"
   ]
  },
  {
   "cell_type": "code",
   "execution_count": 4,
   "id": "d03eb3fa-bf31-4cd6-b7d0-914aa69fb2a6",
   "metadata": {},
   "outputs": [
    {
     "name": "stdout",
     "output_type": "stream",
     "text": [
      "                  time  eui-e8e1e1000104c5ca\n",
      "17    01/06/2023 09:00                    39\n",
      "18    01/06/2023 09:30                    39\n",
      "19    01/06/2023 10:00                    39\n",
      "20    01/06/2023 10:30                    39\n",
      "21    01/06/2023 11:00                    39\n",
      "...                ...                   ...\n",
      "1518  02/07/2023 18:00                    39\n",
      "1519  02/07/2023 18:30                    39\n",
      "1520  02/07/2023 19:00                    39\n",
      "1521  02/07/2023 19:30                    39\n",
      "1522  02/07/2023 20:00                    39\n",
      "\n",
      "[584 rows x 2 columns]\n"
     ]
    }
   ],
   "source": [
    "# Create a copy of filtered_data_clean\n",
    "filtered_data_modified = filtered_data_clean.copy()\n",
    "\n",
    "# Conditionally modify the values in the second column\n",
    "mask = (filtered_data_modified.iloc[:, 1] == 255)\n",
    "filtered_data_modified.loc[mask, filtered_data_modified.columns[1]] = 39\n",
    "\n",
    "# Print the modified filtered_data_modified DataFrame\n",
    "print(filtered_data_modified)"
   ]
  },
  {
   "cell_type": "code",
   "execution_count": 5,
   "id": "1dbb131e-ed5a-46d3-b250-ce8a2f402cfa",
   "metadata": {},
   "outputs": [],
   "source": [
    "# Export the modified filtered_data_modified DataFrame to a CSV file\n",
    "filtered_data_modified.to_csv(\"c5ca_modified_data.csv\", index=False)"
   ]
  },
  {
   "cell_type": "code",
   "execution_count": null,
   "id": "40287f0d-51a7-4539-9c15-7cad0fe50a5c",
   "metadata": {},
   "outputs": [],
   "source": []
  }
 ],
 "metadata": {
  "kernelspec": {
   "display_name": "Python 3 (ipykernel)",
   "language": "python",
   "name": "python3"
  },
  "language_info": {
   "codemirror_mode": {
    "name": "ipython",
    "version": 3
   },
   "file_extension": ".py",
   "mimetype": "text/x-python",
   "name": "python",
   "nbconvert_exporter": "python",
   "pygments_lexer": "ipython3",
   "version": "3.10.5"
  }
 },
 "nbformat": 4,
 "nbformat_minor": 5
}
