{
 "cells": [
  {
   "cell_type": "code",
   "execution_count": 1,
   "id": "f8cdf180-9d81-4871-a782-7dd7bcfa5c1b",
   "metadata": {},
   "outputs": [],
   "source": [
    "\n",
    "import networkx as nx \n",
    "import matplotlib.pyplot as plt \n",
    "import numpy as np \n",
    "import pandas as pd"
   ]
  },
  {
   "cell_type": "code",
   "execution_count": 2,
   "id": "d8b81c08-5d78-48bb-89f5-5276f056f8a3",
   "metadata": {},
   "outputs": [
    {
     "name": "stdout",
     "output_type": "stream",
     "text": [
      "                  time  eui-e8e1e1000104c51e\n",
      "17    01/06/2023 09:00                  50.2\n",
      "18    01/06/2023 09:30                  50.3\n",
      "19    01/06/2023 10:00                  49.8\n",
      "20    01/06/2023 10:30                  51.7\n",
      "21    01/06/2023 11:00                  50.8\n",
      "...                ...                   ...\n",
      "1518  02/07/2023 18:00                  50.4\n",
      "1519  02/07/2023 18:30                  49.5\n",
      "1520  02/07/2023 19:00                  50.6\n",
      "1521  02/07/2023 19:30                  49.0\n",
      "1522  02/07/2023 20:00                  51.8\n",
      "\n",
      "[731 rows x 2 columns]\n"
     ]
    }
   ],
   "source": [
    "import pandas as pd\n",
    "\n",
    "# Read in the CSV file\n",
    "file = pd.read_csv(\"c51e.csv\")\n",
    "\n",
    "# Select the first column named \"time\"\n",
    "selected_column = file['time']\n",
    "\n",
    "# Convert the column to datetime type with the appropriate format\n",
    "selected_column = pd.to_datetime(selected_column, format=\"%d/%m/%Y %H:%M\")\n",
    "\n",
    "# Filter the data based on the time between 09:00 and 20:00\n",
    "filtered_data = file[\n",
    "    selected_column.dt.strftime(\"%H:%M\").between('09:00', '20:00')\n",
    "]\n",
    "\n",
    "# Print the filtered data\n",
    "print(filtered_data)"
   ]
  },
  {
   "cell_type": "code",
   "execution_count": 3,
   "id": "ed9a1c22-6c25-4d5d-850d-79f3004e6627",
   "metadata": {},
   "outputs": [
    {
     "name": "stdout",
     "output_type": "stream",
     "text": [
      "                  time  eui-e8e1e1000104c51e\n",
      "17    01/06/2023 09:00                  56.2\n",
      "18    01/06/2023 09:30                  56.3\n",
      "19    01/06/2023 10:00                  55.8\n",
      "20    01/06/2023 10:30                  57.7\n",
      "21    01/06/2023 11:00                  56.8\n",
      "...                ...                   ...\n",
      "1518  02/07/2023 18:00                  56.4\n",
      "1519  02/07/2023 18:30                  55.5\n",
      "1520  02/07/2023 19:00                  56.6\n",
      "1521  02/07/2023 19:30                  55.0\n",
      "1522  02/07/2023 20:00                  57.8\n",
      "\n",
      "[731 rows x 2 columns]\n",
      "                  time  eui-e8e1e1000104c51e\n",
      "17    01/06/2023 09:00                  50.2\n",
      "18    01/06/2023 09:30                  50.3\n",
      "19    01/06/2023 10:00                  49.8\n",
      "20    01/06/2023 10:30                  51.7\n",
      "21    01/06/2023 11:00                  50.8\n",
      "...                ...                   ...\n",
      "1518  02/07/2023 18:00                  50.4\n",
      "1519  02/07/2023 18:30                  49.5\n",
      "1520  02/07/2023 19:00                  50.6\n",
      "1521  02/07/2023 19:30                  49.0\n",
      "1522  02/07/2023 20:00                  51.8\n",
      "\n",
      "[729 rows x 2 columns]\n"
     ]
    }
   ],
   "source": [
    "import numpy as np\n",
    "\n",
    "# Create a copy of filtered_data_clean\n",
    "filtered_data_clean = filtered_data.copy()\n",
    "\n",
    "# Subtract 1 from the values in the second column, excluding the rows where the value is 255\n",
    "filtered_data_clean.loc[filtered_data_clean.iloc[:, 1] != 255, filtered_data_clean.columns[1]] += 6\n",
    "\n",
    "# Print the updated filtered_data_clean DataFrame\n",
    "print(filtered_data_clean)\n",
    "# Delete rows with null values in the second column\n",
    "filtered_data_clean = filtered_data.dropna(subset=[filtered_data.columns[1]])\n",
    "\n",
    "# Delete rows with values between 101 and 254 or less than 40 and greater than 0 in the second column\n",
    "filtered_data_clean = filtered_data_clean[~filtered_data_clean.iloc[:, 1].between(101, 254) &\n",
    "                                          ~filtered_data_clean.iloc[:, 1].between(0, 39)]\n",
    "\n",
    "# Print the updated filtered data\n",
    "print(filtered_data_clean)"
   ]
  },
  {
   "cell_type": "code",
   "execution_count": 4,
   "id": "c43fb6b8-9795-4687-bf29-2c4faa8547a0",
   "metadata": {},
   "outputs": [
    {
     "name": "stdout",
     "output_type": "stream",
     "text": [
      "                  time  eui-e8e1e1000104c51e\n",
      "17    01/06/2023 09:00                  50.2\n",
      "18    01/06/2023 09:30                  50.3\n",
      "19    01/06/2023 10:00                  49.8\n",
      "20    01/06/2023 10:30                  51.7\n",
      "21    01/06/2023 11:00                  50.8\n",
      "...                ...                   ...\n",
      "1518  02/07/2023 18:00                  50.4\n",
      "1519  02/07/2023 18:30                  49.5\n",
      "1520  02/07/2023 19:00                  50.6\n",
      "1521  02/07/2023 19:30                  49.0\n",
      "1522  02/07/2023 20:00                  51.8\n",
      "\n",
      "[729 rows x 2 columns]\n"
     ]
    }
   ],
   "source": [
    "# Create a copy of filtered_data_clean\n",
    "filtered_data_modified = filtered_data_clean.copy()\n",
    "\n",
    "# Conditionally modify the values in the second column\n",
    "mask = (filtered_data_modified.iloc[:, 1] == 255)\n",
    "filtered_data_modified.loc[mask, filtered_data_modified.columns[1]] = 39\n",
    "\n",
    "# Print the modified filtered_data_modified DataFrame\n",
    "print(filtered_data_modified)"
   ]
  },
  {
   "cell_type": "code",
   "execution_count": 5,
   "id": "bec19bd5-a5ca-45a6-bbe9-c597432e7d4a",
   "metadata": {},
   "outputs": [],
   "source": [
    "# Export the modified filtered_data_modified DataFrame to a CSV file\n",
    "filtered_data_modified.to_csv(\"c51e_modified_data.csv\", index=False)"
   ]
  },
  {
   "cell_type": "code",
   "execution_count": 6,
   "id": "987e11b9-d9c1-44cf-9a6c-9f61dca019d8",
   "metadata": {},
   "outputs": [
    {
     "name": "stdout",
     "output_type": "stream",
     "text": [
      "                   time  eui-e8e1e1000104c51e\n",
      "0   2023-06-01 09:00:00                  50.2\n",
      "1   2023-06-01 09:30:00                  50.3\n",
      "2   2023-06-01 10:00:00                  49.8\n",
      "3   2023-06-01 10:30:00                  51.7\n",
      "4   2023-06-01 11:00:00                  50.8\n",
      "..                  ...                   ...\n",
      "724 2023-07-02 18:00:00                  50.4\n",
      "725 2023-07-02 18:30:00                  49.5\n",
      "726 2023-07-02 19:00:00                  50.6\n",
      "727 2023-07-02 19:30:00                  49.0\n",
      "728 2023-07-02 20:00:00                  51.8\n",
      "\n",
      "[721 rows x 2 columns]\n"
     ]
    }
   ],
   "source": [
    "import pandas as pd\n",
    "\n",
    "# Read the CSV file\n",
    "data = pd.read_csv('c51e_modified_data.csv')\n",
    "\n",
    "# Convert the 'time' column to datetime type\n",
    "data['time'] = pd.to_datetime(data['time'], dayfirst=True, errors='coerce')\n",
    "\n",
    "# Filter out the rows with date '06/03/2023' and time not between 11:00 and 18:00\n",
    "filtered_data_sat = data.loc[\n",
    "    ~(data['time'].dt.date == pd.to_datetime('06/03/2023', format='%m/%d/%Y').date())\n",
    "    | data['time'].dt.strftime('%H:%M').between('11:00', '18:00')\n",
    "]\n",
    "\n",
    "# Print the updated filtered data\n",
    "print(filtered_data_sat)\n"
   ]
  },
  {
   "cell_type": "code",
   "execution_count": 7,
   "id": "a1480062-2abc-48f0-855e-f483db094165",
   "metadata": {},
   "outputs": [],
   "source": [
    "# Save the filtered data to a new CSV file\n",
    "filtered_data_sat.to_csv('filtered_c51e_modified_data.csv', index=False)"
   ]
  },
  {
   "cell_type": "code",
   "execution_count": 8,
   "id": "0e801fc6-f7d5-4cef-a465-f681d305a6fa",
   "metadata": {},
   "outputs": [
    {
     "name": "stdout",
     "output_type": "stream",
     "text": [
      "Maximum value of the noise: 55.2\n",
      "Minimum value of the noise: 41.3\n"
     ]
    }
   ],
   "source": [
    "import pandas as pd\n",
    "\n",
    "# Read the filtered data from the CSV file\n",
    "filtered_data = pd.read_csv('filtered_c51e_modified_data.csv')\n",
    "\n",
    "# Find the maximum and minimum values of the second column\n",
    "max_value = filtered_data.iloc[:, 1].max()\n",
    "min_value = filtered_data.iloc[:, 1].min()\n",
    "\n",
    "# Print the maximum and minimum values\n",
    "print(\"Maximum value of the noise:\", max_value)\n",
    "print(\"Minimum value of the noise:\", min_value)"
   ]
  },
  {
   "cell_type": "code",
   "execution_count": 9,
   "id": "69a800ef-cdab-4272-8443-899c5b3b080c",
   "metadata": {},
   "outputs": [
    {
     "name": "stdout",
     "output_type": "stream",
     "text": [
      "Average value of the noise: 50.48224687933431\n"
     ]
    }
   ],
   "source": [
    "# Calculate the average of the second column\n",
    "average_value = filtered_data.iloc[:, 1].mean()\n",
    "\n",
    "# Print the average value\n",
    "print(\"Average value of the noise:\", average_value)"
   ]
  },
  {
   "cell_type": "code",
   "execution_count": 10,
   "id": "a74512c3-1189-498e-89d3-7f55065c35d4",
   "metadata": {},
   "outputs": [
    {
     "data": {
      "image/png": "[encoded data removed]",
      "text/plain": [
       "<Figure size 432x288 with 2 Axes>"
      ]
     },
     "metadata": {
      "needs_background": "light"
     },
     "output_type": "display_data"
    }
   ],
   "source": [
    "import matplotlib.pyplot as plt\n",
    "\n",
    "# Convert the second column to numeric type if needed\n",
    "filtered_data['time'] = pd.to_datetime(filtered_data['time'], dayfirst=True, errors='coerce')\n",
    "filtered_data['eui-e8e1e1000104c51e'] = pd.to_numeric(filtered_data['eui-e8e1e1000104c51e'], errors='coerce')\n",
    "\n",
    "# Create a Figure with two subplots\n",
    "fig, (ax_data, ax_time) = plt.subplots(2, 1, sharex=True, gridspec_kw={'height_ratios': [3, 1]})\n",
    "\n",
    "# Plot the data in the top subplot\n",
    "ax_data.plot(filtered_data['time'], filtered_data['eui-e8e1e1000104c51e'])\n",
    "ax_data.set_ylabel('c51e')\n",
    "ax_data.set_title('Filtered Data')\n",
    "\n",
    "# Set the limits of the x-axis in the data subplot\n",
    "ax_data.set_xlim(filtered_data['time'].min(), filtered_data['time'].max())\n",
    "\n",
    "# Plot the time axis in the bottom subplot\n",
    "ax_time.plot(filtered_data['time'], [0] * len(filtered_data), '|', color='k')\n",
    "ax_time.yaxis.tick_right()\n",
    "ax_time.set_yticks([])\n",
    "ax_time.set_xlabel('Time')\n",
    "\n",
    "# Rotate x-axis labels for better visibility (optional)\n",
    "plt.xticks(rotation=45)\n",
    "\n",
    "# Adjust spacing between subplots\n",
    "plt.subplots_adjust(hspace=0.05)\n",
    "\n",
    "# Display the plot\n",
    "plt.show()"
   ]
  },
  {
   "cell_type": "code",
   "execution_count": null,
   "id": "82e4b0fa-6fc0-471d-ac20-56cbf659518b",
   "metadata": {},
   "outputs": [],
   "source": []
  }
 ],
 "metadata": {
  "kernelspec": {
   "display_name": "Python 3 (ipykernel)",
   "language": "python",
   "name": "python3"
  },
  "language_info": {
   "codemirror_mode": {
    "name": "ipython",
    "version": 3
   },
   "file_extension": ".py",
   "mimetype": "text/x-python",
   "name": "python",
   "nbconvert_exporter": "python",
   "pygments_lexer": "ipython3",
   "version": "3.10.5"
  }
 },
 "nbformat": 4,
 "nbformat_minor": 5
}
